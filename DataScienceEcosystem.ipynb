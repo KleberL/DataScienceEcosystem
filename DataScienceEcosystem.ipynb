{
 "cells": [
  {
   "cell_type": "markdown",
   "id": "a779c3bf-f171-4cec-8d76-eb457ad93b9d",
   "metadata": {},
   "source": [
    "# Data Science Tools and Ecosystem"
   ]
  },
  {
   "cell_type": "markdown",
   "id": "e08fa116-1f0c-4a9d-885d-8b3bdda6f221",
   "metadata": {},
   "source": [
    "En este cuaderno, se resumen las herramientas y ecosistemas de ciencia de datos."
   ]
  },
  {
   "cell_type": "markdown",
   "id": "00de87e3-83eb-4ef3-8fc5-8ded0dd401db",
   "metadata": {},
   "source": [
    "**Objetivos:**"
   ]
  },
  {
   "cell_type": "markdown",
   "id": "0be3e813-6ebb-4634-8ad7-4c85825aab35",
   "metadata": {},
   "source": [
    "* Listar lenguajes populares para Ciencia de Datos\n",
    "* Listar bibliotecas utilizadas por los científicos de datos\n",
    "* Listar herramientas de Ciencia de Datos"
   ]
  },
  {
   "cell_type": "markdown",
   "id": "ae6581fc-b2fa-4f33-8383-0a732dcb6619",
   "metadata": {},
   "source": [
    "Algunos de los lenguajes populares que utilizan los científicos de datos son:\n",
    "1. Python\n",
    "2. R\n",
    "3. SQL"
   ]
  },
  {
   "cell_type": "markdown",
   "id": "f399f4e6-cacf-45b0-971f-75dfae8b7e87",
   "metadata": {},
   "source": [
    "Algunas de las bibliotecas comúnmente utilizadas por los científicos de datos incluyen:\n",
    "1. Pandas\n",
    "2. NumPy\n",
    "3. Matplotlib\n",
    "4. scikit-learn"
   ]
  },
  {
   "cell_type": "markdown",
   "id": "eeaf1384-d3ab-4640-af4d-c949fea027b1",
   "metadata": {},
   "source": [
    "Herramientas de Ciencia de Datos\n",
    "|-------------------------------|\n",
    "| Jupyter Notebook |\n",
    "| RStudio |\n",
    "| VS Code |"
   ]
  },
  {
   "cell_type": "markdown",
   "id": "b1579f0e-b601-44dd-9e9d-36359b00e5e5",
   "metadata": {},
   "source": [
    "### A continuación, se presentan algunos ejemplos de evaluación de expresiones aritméticas en Python"
   ]
  },
  {
   "cell_type": "markdown",
   "id": "57a1ddac-32af-4ba2-9a2d-7c8b57b0e81b",
   "metadata": {},
   "source": [
    "Esta es una expresión aritmética simple para multiplicar y luego sumar enteros"
   ]
  },
  {
   "cell_type": "code",
   "execution_count": 9,
   "id": "a832bbb4-6457-4264-b2fe-1b41b70f97d5",
   "metadata": {},
   "outputs": [
    {
     "data": {
      "text/plain": [
       "17"
      ]
     },
     "execution_count": 9,
     "metadata": {},
     "output_type": "execute_result"
    }
   ],
   "source": [
    "(3*4)+5"
   ]
  },
  {
   "cell_type": "markdown",
   "id": "4a3aea0c-9e77-49c9-976b-6ffcfc8214ae",
   "metadata": {},
   "source": [
    "Esto convertirá 200 minutos a horas dividiendo por 60"
   ]
  },
  {
   "cell_type": "code",
   "execution_count": 12,
   "id": "b20b53cf-e19f-479c-83d0-322429ad52e9",
   "metadata": {},
   "outputs": [
    {
     "data": {
      "text/plain": [
       "33.333333333333336"
      ]
     },
     "execution_count": 12,
     "metadata": {},
     "output_type": "execute_result"
    }
   ],
   "source": [
    "200/6"
   ]
  },
  {
   "cell_type": "markdown",
   "id": "a90d7599-d171-4085-8f49-aaae6b40cb50",
   "metadata": {},
   "source": [
    "## Autor"
   ]
  },
  {
   "cell_type": "markdown",
   "id": "2cf67050-ded9-489d-8a30-10b30f833939",
   "metadata": {},
   "source": [
    "Kleber Enrique Landivar Arteaga"
   ]
  }
 ],
 "metadata": {
  "kernelspec": {
   "display_name": "Python [conda env:base] *",
   "language": "python",
   "name": "conda-base-py"
  },
  "language_info": {
   "codemirror_mode": {
    "name": "ipython",
    "version": 3
   },
   "file_extension": ".py",
   "mimetype": "text/x-python",
   "name": "python",
   "nbconvert_exporter": "python",
   "pygments_lexer": "ipython3",
   "version": "3.12.7"
  }
 },
 "nbformat": 4,
 "nbformat_minor": 5
}
